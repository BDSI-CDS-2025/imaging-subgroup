{
 "cells": [
  {
   "cell_type": "markdown",
   "id": "aa8d59ce",
   "metadata": {},
   "source": [
    "# 12_interpretability.ipynb"
   ]
  },
  {
   "cell_type": "code",
   "execution_count": 2,
   "id": "a8dd290c",
   "metadata": {},
   "outputs": [],
   "source": [
    "import pandas as pd\n",
    "from pathlib import Path\n",
    "from sklearn.preprocessing import LabelEncoder\n",
    "path = Path.cwd().parent.parent\n",
    "pc = pd.read_csv(path / \"data\" / \"interim\" / \"pc_by_feature_group_for_patients.csv\")\n",
    "pc.rename(columns={'Patient.ID': 'Patient ID'}, inplace=True)\n",
    "clin = pd.read_csv(path / \"data\" / \"raw\" / \"clinicalData_clean.csv\")\n",
    "TARGET = 'Mol Subtype'\n",
    "data = pc.merge(clin[['Patient ID', TARGET]], on='Patient ID', how='inner')\n",
    "data = data.drop('Unnamed: 0', axis=1, errors='ignore')\n",
    "data = data.dropna() \n",
    "\n",
    "y = data[TARGET]\n",
    "if y.dtype == 'object' or y.dtype.name == 'category':\n",
    "    le = LabelEncoder()\n",
    "    y = le.fit_transform(y)# Drop the target and patient ID columns to get the feature set\n",
    "X = data.drop([TARGET, 'Patient ID'], axis=1, errors='ignore')"
   ]
  },
  {
   "cell_type": "markdown",
   "id": "ceea28bc",
   "metadata": {},
   "source": [
    "## Permutation importance by feature group\n",
    "* Used to determine how much a model's performance relies on each feature\n",
    "* Works by shuffling the values of a feature and observing the impact on the model's error rate\n",
    "* A large increase in the error while shuffling indicates the feature is important, while little to no change suggests that it is not"
   ]
  },
  {
   "cell_type": "code",
   "execution_count": 3,
   "id": "a595b3a8",
   "metadata": {},
   "outputs": [
    {
     "data": {
      "text/html": [
       "<style>#sk-container-id-1 {color: black;}#sk-container-id-1 pre{padding: 0;}#sk-container-id-1 div.sk-toggleable {background-color: white;}#sk-container-id-1 label.sk-toggleable__label {cursor: pointer;display: block;width: 100%;margin-bottom: 0;padding: 0.3em;box-sizing: border-box;text-align: center;}#sk-container-id-1 label.sk-toggleable__label-arrow:before {content: \"▸\";float: left;margin-right: 0.25em;color: #696969;}#sk-container-id-1 label.sk-toggleable__label-arrow:hover:before {color: black;}#sk-container-id-1 div.sk-estimator:hover label.sk-toggleable__label-arrow:before {color: black;}#sk-container-id-1 div.sk-toggleable__content {max-height: 0;max-width: 0;overflow: hidden;text-align: left;background-color: #f0f8ff;}#sk-container-id-1 div.sk-toggleable__content pre {margin: 0.2em;color: black;border-radius: 0.25em;background-color: #f0f8ff;}#sk-container-id-1 input.sk-toggleable__control:checked~div.sk-toggleable__content {max-height: 200px;max-width: 100%;overflow: auto;}#sk-container-id-1 input.sk-toggleable__control:checked~label.sk-toggleable__label-arrow:before {content: \"▾\";}#sk-container-id-1 div.sk-estimator input.sk-toggleable__control:checked~label.sk-toggleable__label {background-color: #d4ebff;}#sk-container-id-1 div.sk-label input.sk-toggleable__control:checked~label.sk-toggleable__label {background-color: #d4ebff;}#sk-container-id-1 input.sk-hidden--visually {border: 0;clip: rect(1px 1px 1px 1px);clip: rect(1px, 1px, 1px, 1px);height: 1px;margin: -1px;overflow: hidden;padding: 0;position: absolute;width: 1px;}#sk-container-id-1 div.sk-estimator {font-family: monospace;background-color: #f0f8ff;border: 1px dotted black;border-radius: 0.25em;box-sizing: border-box;margin-bottom: 0.5em;}#sk-container-id-1 div.sk-estimator:hover {background-color: #d4ebff;}#sk-container-id-1 div.sk-parallel-item::after {content: \"\";width: 100%;border-bottom: 1px solid gray;flex-grow: 1;}#sk-container-id-1 div.sk-label:hover label.sk-toggleable__label {background-color: #d4ebff;}#sk-container-id-1 div.sk-serial::before {content: \"\";position: absolute;border-left: 1px solid gray;box-sizing: border-box;top: 0;bottom: 0;left: 50%;z-index: 0;}#sk-container-id-1 div.sk-serial {display: flex;flex-direction: column;align-items: center;background-color: white;padding-right: 0.2em;padding-left: 0.2em;position: relative;}#sk-container-id-1 div.sk-item {position: relative;z-index: 1;}#sk-container-id-1 div.sk-parallel {display: flex;align-items: stretch;justify-content: center;background-color: white;position: relative;}#sk-container-id-1 div.sk-item::before, #sk-container-id-1 div.sk-parallel-item::before {content: \"\";position: absolute;border-left: 1px solid gray;box-sizing: border-box;top: 0;bottom: 0;left: 50%;z-index: -1;}#sk-container-id-1 div.sk-parallel-item {display: flex;flex-direction: column;z-index: 1;position: relative;background-color: white;}#sk-container-id-1 div.sk-parallel-item:first-child::after {align-self: flex-end;width: 50%;}#sk-container-id-1 div.sk-parallel-item:last-child::after {align-self: flex-start;width: 50%;}#sk-container-id-1 div.sk-parallel-item:only-child::after {width: 0;}#sk-container-id-1 div.sk-dashed-wrapped {border: 1px dashed gray;margin: 0 0.4em 0.5em 0.4em;box-sizing: border-box;padding-bottom: 0.4em;background-color: white;}#sk-container-id-1 div.sk-label label {font-family: monospace;font-weight: bold;display: inline-block;line-height: 1.2em;}#sk-container-id-1 div.sk-label-container {text-align: center;}#sk-container-id-1 div.sk-container {/* jupyter's `normalize.less` sets `[hidden] { display: none; }` but bootstrap.min.css set `[hidden] { display: none !important; }` so we also need the `!important` here to be able to override the default hidden behavior on the sphinx rendered scikit-learn.org. See: https://github.com/scikit-learn/scikit-learn/issues/21755 */display: inline-block !important;position: relative;}#sk-container-id-1 div.sk-text-repr-fallback {display: none;}</style><div id=\"sk-container-id-1\" class=\"sk-top-container\"><div class=\"sk-text-repr-fallback\"><pre>RandomForestClassifier(max_depth=10, min_samples_leaf=4, min_samples_split=5,\n",
       "                       n_estimators=500)</pre><b>In a Jupyter environment, please rerun this cell to show the HTML representation or trust the notebook. <br />On GitHub, the HTML representation is unable to render, please try loading this page with nbviewer.org.</b></div><div class=\"sk-container\" hidden><div class=\"sk-item\"><div class=\"sk-estimator sk-toggleable\"><input class=\"sk-toggleable__control sk-hidden--visually\" id=\"sk-estimator-id-1\" type=\"checkbox\" checked><label for=\"sk-estimator-id-1\" class=\"sk-toggleable__label sk-toggleable__label-arrow\">RandomForestClassifier</label><div class=\"sk-toggleable__content\"><pre>RandomForestClassifier(max_depth=10, min_samples_leaf=4, min_samples_split=5,\n",
       "                       n_estimators=500)</pre></div></div></div></div></div>"
      ],
      "text/plain": [
       "RandomForestClassifier(max_depth=10, min_samples_leaf=4, min_samples_split=5,\n",
       "                       n_estimators=500)"
      ]
     },
     "execution_count": 3,
     "metadata": {},
     "output_type": "execute_result"
    }
   ],
   "source": [
    "from sklearn.ensemble import RandomForestClassifier\n",
    "\n",
    "best_rf_params = {\"bootstrap\": True, \n",
    "                \"max_depth\": 10,\n",
    "                \"min_samples_leaf\": 4,\n",
    "                \"min_samples_split\": 5,\n",
    "                \"n_estimators\": 500}\n",
    "\n",
    "rf = RandomForestClassifier(**best_rf_params)\n",
    "rf.fit(X, y)"
   ]
  },
  {
   "cell_type": "code",
   "execution_count": null,
   "id": "869c4084",
   "metadata": {},
   "outputs": [],
   "source": [
    "from sklearn.inspection import permutation_importance\n",
    "\n",
    "# Calculate permutation importance\n",
    "result = permutation_importance(\n",
    "    rf, X, y,\n",
    "    n_repeats=10, # number of times to shuffle each feature\n",
    "    random_state=42,\n",
    "    n_jobs=-1 # use all CPU cores\n",
    ")"
   ]
  },
  {
   "cell_type": "code",
   "execution_count": null,
   "id": "f8b7ffeb",
   "metadata": {},
   "outputs": [
    {
     "name": "stdout",
     "output_type": "stream",
     "text": [
      "                                       feature  importance_mean  \\\n",
      "0      PC1_Combining_Tumor_and_FGT_Enhancement         0.039371   \n",
      "8                  PC1_FGT_Enhancement_Texture         0.035033   \n",
      "4              PC1_Tumor_Enhancement_Variation         0.034707   \n",
      "2                PC1_Tumor_Enhancement_Texture         0.033948   \n",
      "7                        PC1_Tumor_Enhancement         0.033731   \n",
      "9                PC1_FGT_Enhancement_Variation         0.033406   \n",
      "6                          PC1_FGT_Enhancement         0.031128   \n",
      "1                PC1_Tumor_Size_and_Morphology         0.027223   \n",
      "5           PC1_Breast_and_FGT_Volume_Features         0.027007   \n",
      "3  PC1_Tumor_Enhancement_Spatial_Heterogeneity         0.026247   \n",
      "\n",
      "   importance_std  \n",
      "0        0.003070  \n",
      "8        0.001882  \n",
      "4        0.003757  \n",
      "2        0.002992  \n",
      "7        0.002805  \n",
      "9        0.002158  \n",
      "6        0.002912  \n",
      "1        0.002763  \n",
      "5        0.002398  \n",
      "3        0.002603  \n"
     ]
    }
   ],
   "source": [
    "# Get feature names\n",
    "feature_names = X.columns\n",
    "\n",
    "# Create a DataFrame for easy viewing\n",
    "importances_df = pd.DataFrame({\n",
    "    'feature': feature_names,\n",
    "    'importance_mean': result.importances_mean, # average drop in accuracy when the feature is shuffled\n",
    "    'importance_std': result.importances_std # standard deviation across repeats\n",
    "}).sort_values(by='importance_mean', ascending=False)\n",
    "\n",
    "print(importances_df)"
   ]
  },
  {
   "cell_type": "code",
   "execution_count": null,
   "id": "382f8f58",
   "metadata": {},
   "outputs": [],
   "source": []
  }
 ],
 "metadata": {
  "kernelspec": {
   "display_name": "base",
   "language": "python",
   "name": "python3"
  },
  "language_info": {
   "codemirror_mode": {
    "name": "ipython",
    "version": 3
   },
   "file_extension": ".py",
   "mimetype": "text/x-python",
   "name": "python",
   "nbconvert_exporter": "python",
   "pygments_lexer": "ipython3",
   "version": "3.11.4"
  }
 },
 "nbformat": 4,
 "nbformat_minor": 5
}
